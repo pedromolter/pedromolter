{
  "nbformat": 4,
  "nbformat_minor": 0,
  "metadata": {
    "colab": {
      "provenance": [],
      "authorship_tag": "ABX9TyN18Qt2TzfmcowqGuuu4Gdn",
      "include_colab_link": true
    },
    "kernelspec": {
      "name": "python3",
      "display_name": "Python 3"
    },
    "language_info": {
      "name": "python"
    }
  },
  "cells": [
    {
      "cell_type": "markdown",
      "metadata": {
        "id": "view-in-github",
        "colab_type": "text"
      },
      "source": [
        "<a href=\"https://colab.research.google.com/github/pedromolter/pedromolter/blob/main/Arquivo1.ipynb\" target=\"_parent\"><img src=\"https://colab.research.google.com/assets/colab-badge.svg\" alt=\"Open In Colab\"/></a>"
      ]
    },
    {
      "cell_type": "code",
      "source": [
        "print((7+2) * 4)"
      ],
      "metadata": {
        "colab": {
          "base_uri": "https://localhost:8080/"
        },
        "id": "atRLTsX8fQIe",
        "outputId": "7e23ca5e-60c7-4765-d447-f1db0e8d444f"
      },
      "execution_count": null,
      "outputs": [
        {
          "output_type": "stream",
          "name": "stdout",
          "text": [
            "36\n"
          ]
        }
      ]
    },
    {
      "cell_type": "code",
      "source": [
        "#Problema da hamburgueria\n",
        "#Declarando as variáveis:\n",
        "lanchePreco = 10.90\n",
        "lancheQtd = 2\n",
        "refriPreco = 4.50\n",
        "refriQtd = 3\n",
        "batataPreco = 8.45\n",
        "batataQtd = 1\n",
        "contaTotal = lanchePreco*lancheQtd + refriPreco*refriQtd + batataPreco*batataQtd"
      ],
      "metadata": {
        "id": "W92W3p7lqlzh"
      },
      "execution_count": null,
      "outputs": []
    },
    {
      "cell_type": "code",
      "source": [
        "print('o valor da conta foi de : R$',contaTotal)\n",
        "#respsta da questão número 1"
      ],
      "metadata": {
        "colab": {
          "base_uri": "https://localhost:8080/"
        },
        "id": "wBivsL20r3y9",
        "outputId": "b88d8032-f05d-47c4-8ad7-a2edaaa6c84e"
      },
      "execution_count": null,
      "outputs": [
        {
          "output_type": "stream",
          "name": "stdout",
          "text": [
            "o valor da conta foi de : R$ 43.75\n"
          ]
        }
      ]
    },
    {
      "cell_type": "code",
      "source": [
        "#Problema número 2\n",
        "nota10Qtd = contaTotal // 10\n",
        "valorFaltante = contaTotal - nota10Qtd*10\n",
        "\n",
        "print(nota10Qtd)\n",
        "print(valorFaltante)\n",
        "#Respondendo a segunda pergunta:\n",
        "print('A quantidade de notas de 10 que foram utilizadas:', nota10Qtd)"
      ],
      "metadata": {
        "colab": {
          "base_uri": "https://localhost:8080/"
        },
        "id": "0inSOCJssSaZ",
        "outputId": "95ac902f-5538-4b07-c209-0523dd8daafc"
      },
      "execution_count": null,
      "outputs": [
        {
          "output_type": "stream",
          "name": "stdout",
          "text": [
            "4.0\n",
            "3.75\n",
            "A quantidade de notas de 10 que foram utilizadas: 4.0\n"
          ]
        }
      ]
    },
    {
      "cell_type": "code",
      "source": [
        "#Problema número 3\n",
        "nota5Qtd = valorFaltante // 5 + 1\n",
        "valorFaltante = valorFaltante -nota5Qtd * 5\n",
        "\n",
        "print(nota5Qtd)\n"
      ],
      "metadata": {
        "colab": {
          "base_uri": "https://localhost:8080/"
        },
        "id": "RfrOz3vstuOg",
        "outputId": "8d0dd583-0f9b-4ab5-ca5c-78fa4bcd9153"
      },
      "execution_count": null,
      "outputs": [
        {
          "output_type": "stream",
          "name": "stdout",
          "text": [
            "0.0\n"
          ]
        }
      ]
    },
    {
      "cell_type": "code",
      "source": [
        "#repetição com soma\n",
        "\n",
        "passo = range(1,5 + 1)\n",
        "\n",
        "soma = 5\n",
        "for i in passo:\n",
        "  n = int(input('digite um valor: '))\n",
        "  soma = soma + n\n",
        "print('a soma total é: {}'.format(soma))"
      ],
      "metadata": {
        "colab": {
          "base_uri": "https://localhost:8080/"
        },
        "id": "sl1mSbEC3heS",
        "outputId": "fd32cdc2-2bc6-4dc3-bd46-507f6d30c021"
      },
      "execution_count": null,
      "outputs": [
        {
          "output_type": "stream",
          "name": "stdout",
          "text": [
            "digite um valor: 1\n",
            "digite um valor: 1\n",
            "digite um valor: 1\n",
            "digite um valor: 1\n",
            "digite um valor: 1\n",
            "a soma total é: 10\n"
          ]
        }
      ]
    }
  ]
}