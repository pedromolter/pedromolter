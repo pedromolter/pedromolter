{
  "nbformat": 4,
  "nbformat_minor": 0,
  "metadata": {
    "colab": {
      "provenance": [],
      "authorship_tag": "ABX9TyPHeaShX74fxIp3pCdGDOOX",
      "include_colab_link": true
    },
    "kernelspec": {
      "name": "python3",
      "display_name": "Python 3"
    },
    "language_info": {
      "name": "python"
    }
  },
  "cells": [
    {
      "cell_type": "markdown",
      "metadata": {
        "id": "view-in-github",
        "colab_type": "text"
      },
      "source": [
        "<a href=\"https://colab.research.google.com/github/pedromolter/pedromolter/blob/main/Projeto_sistema_banc%C3%A1rio.ipynb\" target=\"_parent\"><img src=\"https://colab.research.google.com/assets/colab-badge.svg\" alt=\"Open In Colab\"/></a>"
      ]
    },
    {
      "cell_type": "code",
      "execution_count": 10,
      "metadata": {
        "id": "rXb3DSOhwLKv"
      },
      "outputs": [],
      "source": [
        "menu = '''\n",
        "\n",
        "[s] saque\n",
        "[d] deposito\n",
        "[e] extrato\n",
        "[q] sair\n",
        "\n",
        "=> '''"
      ]
    },
    {
      "cell_type": "code",
      "source": [
        "saldo = 0\n",
        "limite = 500\n",
        "extrato = ''\n",
        "numero_saques = 0\n",
        "limite_saques = 3\n"
      ],
      "metadata": {
        "id": "GWoM3AdwwmhD"
      },
      "execution_count": 2,
      "outputs": []
    },
    {
      "cell_type": "code",
      "source": [
        "while True:\n",
        "  opcao = input(menu)\n",
        "\n",
        "\n",
        "  if opcao == 'd':\n",
        "    print('deposito')\n",
        "    valor = float(input('informe o valor do deposito: '))\n",
        "\n",
        "    if valor > 0:\n",
        "        saldo += valor\n",
        "        extrato += f'deposito: R$ {valor:.2f}\\n'\n",
        "\n",
        "    else:\n",
        "      print('valor informado invalido!')\n",
        "\n",
        "\n",
        "  elif opcao == 's':\n",
        "    print('saque')\n",
        "    valor = float(input('informe o valor do saque: '))\n",
        "\n",
        "    excedeu_saldo = valor > saldo\n",
        "    excedeu_limite = valor > limite\n",
        "    excedeu_saques = numero_saques = limite_saques\n",
        "\n",
        "    if excedeu_saldo:\n",
        "      print(\"saldo insuficiente!\")\n",
        "\n",
        "    elif excedeu_limite:\n",
        "      print('limite de saque excedido!')\n",
        "\n",
        "    elif excedeu_saques:\n",
        "      print('limite de saques excedido!')\n",
        "\n",
        "    elif valor > 0:\n",
        "      saldo -= valor\n",
        "      extrato += f'saque: R$ {valor:.2f}\\n'\n",
        "      numero_saques += 1\n",
        "\n",
        "    else:\n",
        "      print('valor informado invalido!')\n",
        "\n",
        "\n",
        "  elif opcao == 'e':\n",
        "    print('\\n===========EXTRATO=============')\n",
        "    print(\"Não foram realizados movimentações.\" if not extrato else extrato)\n",
        "    print((f'\\nSaldo: R$ {saldo:.2f}'))\n",
        "    print('=================================')\n",
        "\n",
        "  elif opcao == 'q':\n",
        "      break\n",
        "\n",
        "  else:\n",
        "        print('opcao invalida')"
      ],
      "metadata": {
        "id": "QhIEis3Hw5ic"
      },
      "execution_count": null,
      "outputs": []
    }
  ]
}